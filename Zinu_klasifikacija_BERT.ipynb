{
 "cells": [
  {
   "cell_type": "markdown",
   "metadata": {},
   "source": [
    "# Ielādējam tokenizer / modeli (LVBERT) caur HuggingFace"
   ]
  },
  {
   "cell_type": "code",
   "execution_count": 1,
   "metadata": {},
   "outputs": [
    {
     "name": "stderr",
     "output_type": "stream",
     "text": [
      "c:\\Users\\Devtop\\AppData\\Local\\Programs\\Python\\Python311\\Lib\\site-packages\\tqdm\\auto.py:21: TqdmWarning: IProgress not found. Please update jupyter and ipywidgets. See https://ipywidgets.readthedocs.io/en/stable/user_install.html\n",
      "  from .autonotebook import tqdm as notebook_tqdm\n",
      "Some weights of the PyTorch model were not used when initializing the TF 2.0 model TFBertForSequenceClassification: ['embeddings.position_ids']\n",
      "- This IS expected if you are initializing TFBertForSequenceClassification from a PyTorch model trained on another task or with another architecture (e.g. initializing a TFBertForSequenceClassification model from a BertForPreTraining model).\n",
      "- This IS NOT expected if you are initializing TFBertForSequenceClassification from a PyTorch model that you expect to be exactly identical (e.g. initializing a TFBertForSequenceClassification model from a BertForSequenceClassification model).\n",
      "Some weights or buffers of the TF 2.0 model TFBertForSequenceClassification were not initialized from the PyTorch model and are newly initialized: ['classifier.weight', 'classifier.bias']\n",
      "You should probably TRAIN this model on a down-stream task to be able to use it for predictions and inference.\n"
     ]
    }
   ],
   "source": [
    "from transformers import AutoTokenizer, TFBertForSequenceClassification\n",
    "\n",
    "tokenizer = AutoTokenizer.from_pretrained(\"AiLab-IMCS-UL/lvbert\")\n",
    "model = TFBertForSequenceClassification.from_pretrained(\"AiLab-IMCS-UL/lvbert\", from_pt=True, num_labels=5)"
   ]
  },
  {
   "cell_type": "code",
   "execution_count": 5,
   "metadata": {},
   "outputs": [
    {
     "name": "stdout",
     "output_type": "stream",
     "text": [
      "Encode: [2, 934, 30266, 1055, 14, 91, 12, 4417, 7, 3]\n",
      "Decode: [CLS] Šis žagaru saišķis [SEP]\n"
     ]
    }
   ],
   "source": [
    "enc = tokenizer.encode(\"Šis žagaru saišķis\")\n",
    "dec = tokenizer.decode(enc)\n",
    "print(\"Encode: \" + str(enc))\n",
    "print(\"Decode: \" + str(dec))"
   ]
  },
  {
   "cell_type": "markdown",
   "metadata": {},
   "source": [
    "# Datu ielāde"
   ]
  },
  {
   "cell_type": "code",
   "execution_count": 8,
   "metadata": {},
   "outputs": [
    {
     "data": {
      "text/plain": [
       "(6525, 6525)"
      ]
     },
     "execution_count": 8,
     "metadata": {},
     "output_type": "execute_result"
    }
   ],
   "source": [
    "import pandas as pd\n",
    "from sklearn.preprocessing import LabelEncoder\n",
    "df = pd.read_json('5cat_big.json')\n",
    "df.drop(['title', 'link'], axis=1, inplace=True)\n",
    "df.head()\n",
    "sentences=df['body']\n",
    "le = LabelEncoder().fit(df[\"category\"])\n",
    "df['encod_cat'] = le.transform(df['category'])\n",
    "labels=df['encod_cat']\n",
    "len(sentences),len(labels)"
   ]
  },
  {
   "cell_type": "markdown",
   "metadata": {},
   "source": [
    "# Tokenizācija"
   ]
  },
  {
   "cell_type": "code",
   "execution_count": 9,
   "metadata": {},
   "outputs": [
    {
     "name": "stderr",
     "output_type": "stream",
     "text": [
      "Truncation was not explicitly activated but `max_length` is provided a specific value, please use `truncation=True` to explicitly truncate examples to max length. Defaulting to 'longest_first' truncation strategy. If you encode pairs of sequences (GLUE-style) with the tokenizer you can select this strategy more precisely by providing a specific strategy to `truncation`.\n",
      "c:\\Users\\Devtop\\AppData\\Local\\Programs\\Python\\Python311\\Lib\\site-packages\\transformers\\tokenization_utils_base.py:2606: FutureWarning: The `pad_to_max_length` argument is deprecated and will be removed in a future version, use `padding=True` or `padding='longest'` to pad to the longest sequence in the batch, or use `padding='max_length'` to pad to a max length. In this case, you can give a specific length with `max_length` (e.g. `max_length=45`) or leave max_length to None to pad to the maximal input size of the model (e.g. 512 for Bert).\n",
      "  warnings.warn(\n"
     ]
    },
    {
     "data": {
      "text/plain": [
       "(6525, 6525, 6525)"
      ]
     },
     "execution_count": 9,
     "metadata": {},
     "output_type": "execute_result"
    }
   ],
   "source": [
    "import numpy as np\n",
    "input_ids=[]\n",
    "attention_masks=[]\n",
    "\n",
    "for sent in sentences:\n",
    "    bert_inp=tokenizer.encode_plus(sent,add_special_tokens = True,max_length =64,pad_to_max_length = True,return_attention_mask = True)\n",
    "    input_ids.append(bert_inp['input_ids'])\n",
    "    attention_masks.append(bert_inp['attention_mask'])\n",
    "\n",
    "input_ids=np.asarray(input_ids)\n",
    "attention_masks=np.array(attention_masks)\n",
    "labels=np.array(labels)\n",
    "len(input_ids),len(attention_masks),len(labels)"
   ]
  },
  {
   "cell_type": "markdown",
   "metadata": {},
   "source": [
    "# Sadalam datus apmacibai/parbaudei"
   ]
  },
  {
   "cell_type": "code",
   "execution_count": 10,
   "metadata": {},
   "outputs": [],
   "source": [
    "from sklearn.model_selection import train_test_split\n",
    "apmacibas_ievade,validacijas_ievade,apmacibas_birkas,validacijas_birkas,apmacibas_maskas,validacijas_maskas=train_test_split(input_ids,labels,attention_masks,test_size=0.2)"
   ]
  },
  {
   "cell_type": "markdown",
   "metadata": {},
   "source": [
    "# Modeļa apmācība"
   ]
  },
  {
   "cell_type": "code",
   "execution_count": 12,
   "metadata": {},
   "outputs": [
    {
     "name": "stdout",
     "output_type": "stream",
     "text": [
      "Model: \"tf_bert_for_sequence_classification\"\n",
      "_________________________________________________________________\n",
      " Layer (type)                Output Shape              Param #   \n",
      "=================================================================\n",
      " bert (TFBertMainLayer)      multiple                  110620416 \n",
      "                                                                 \n",
      " dropout_37 (Dropout)        multiple                  0         \n",
      "                                                                 \n",
      " classifier (Dense)          multiple                  3845      \n",
      "                                                                 \n",
      "=================================================================\n",
      "Total params: 110624261 (422.00 MB)\n",
      "Trainable params: 110624261 (422.00 MB)\n",
      "Non-trainable params: 0 (0.00 Byte)\n",
      "_________________________________________________________________\n",
      "None\n"
     ]
    }
   ],
   "source": [
    "import tensorflow as tf\n",
    "\n",
    "# Saglabajam labako modeli pec apmacibas zuduma starp epohiem\n",
    "model_save_path='./models/bert_model.h5'\n",
    "callbacks = [tf.keras.callbacks.ModelCheckpoint(filepath=model_save_path,save_weights_only=True,monitor='val_loss',mode='min',save_best_only=True)]\n",
    "\n",
    "loss = tf.keras.losses.SparseCategoricalCrossentropy(from_logits=True)\n",
    "metric = tf.keras.metrics.SparseCategoricalAccuracy('accuracy')\n",
    "optimizer = tf.keras.optimizers.Adam(learning_rate=2e-5,epsilon=1e-08)\n",
    "model.compile(loss=loss,optimizer=optimizer,metrics=[metric])\n",
    "print(model.summary())"
   ]
  },
  {
   "cell_type": "code",
   "execution_count": 28,
   "metadata": {},
   "outputs": [
    {
     "name": "stdout",
     "output_type": "stream",
     "text": [
      "Epoch 1/5\n",
      "164/164 [==============================] - 720s 4s/step - loss: 0.3306 - accuracy: 0.9056 - val_loss: 0.1614 - val_accuracy: 0.9387\n",
      "Epoch 2/5\n",
      "164/164 [==============================] - 689s 4s/step - loss: 0.0769 - accuracy: 0.9787 - val_loss: 0.1059 - val_accuracy: 0.9678\n",
      "Epoch 3/5\n",
      "164/164 [==============================] - 696s 4s/step - loss: 0.0287 - accuracy: 0.9929 - val_loss: 0.1650 - val_accuracy: 0.9502\n",
      "Epoch 4/5\n",
      "164/164 [==============================] - 709s 4s/step - loss: 0.0212 - accuracy: 0.9933 - val_loss: 0.1364 - val_accuracy: 0.9648\n",
      "Epoch 5/5\n",
      "164/164 [==============================] - 760s 5s/step - loss: 0.0102 - accuracy: 0.9975 - val_loss: 0.1616 - val_accuracy: 0.9625\n"
     ]
    }
   ],
   "source": [
    "history=model.fit([apmacibas_ievade,apmacibas_maskas],apmacibas_birkas,batch_size=32,epochs=5,validation_data=([validacijas_ievade,validacijas_maskas],validacijas_birkas),callbacks=callbacks)"
   ]
  },
  {
   "cell_type": "markdown",
   "metadata": {},
   "source": [
    "# Ielādējam veiksmīgāko modeli, novērtējam / vizualizējam"
   ]
  },
  {
   "cell_type": "code",
   "execution_count": 29,
   "metadata": {},
   "outputs": [
    {
     "name": "stdout",
     "output_type": "stream",
     "text": [
      "41/41 [==============================] - 54s 1s/step\n",
      "(1305,)\n",
      "(1305,)\n",
      "              precision    recall  f1-score   support\n",
      "\n",
      "           0      0.988     0.992     0.990       248\n",
      "           1      0.996     1.000     0.998       258\n",
      "           2      1.000     1.000     1.000       261\n",
      "           3      0.997     0.991     0.994       319\n",
      "           4      1.000     1.000     1.000       219\n",
      "\n",
      "    accuracy                          0.996      1305\n",
      "   macro avg      0.996     0.997     0.996      1305\n",
      "weighted avg      0.996     0.996     0.996      1305\n",
      "\n"
     ]
    },
    {
     "data": {
      "image/png": "[encoded data removed]",
      "text/plain": [
       "<Figure size 640x480 with 2 Axes>"
      ]
     },
     "metadata": {},
     "output_type": "display_data"
    }
   ],
   "source": [
    "from sklearn.metrics import classification_report, confusion_matrix, ConfusionMatrixDisplay\n",
    "\n",
    "#Ieladejam lidz sim veiksmigaka modela svarus\n",
    "model_load_path='./models/bert_model_0.9755.h5'\n",
    "model.load_weights(model_load_path)\n",
    "\n",
    "y_pred = model.predict([validacijas_ievade,validacijas_maskas], batch_size=32)\n",
    "y_pred = np.argmax(y_pred.logits, axis=1)\n",
    "print(validacijas_birkas.shape)\n",
    "print(y_pred.shape)\n",
    "cm = confusion_matrix(validacijas_birkas, y_pred)\n",
    "labels = ['bizness', 'criminal', 'izklaide', 'politika', 'sports']\n",
    "plot = ConfusionMatrixDisplay(confusion_matrix=cm,\n",
    "                              display_labels=labels)\n",
    "plot.plot()\n",
    "plot.ax_.set_title(\"BERT\")\n",
    "print(classification_report(validacijas_birkas, y_pred, digits=3))\n",
    "clsf_report = pd.DataFrame(classification_report(y_true = validacijas_birkas, y_pred = y_pred, output_dict=True)).transpose()\n",
    "clsf_report.to_csv('Report BERT.csv', index= True)"
   ]
  }
 ],
 "metadata": {
  "kernelspec": {
   "display_name": "Python 3",
   "language": "python",
   "name": "python3"
  },
  "language_info": {
   "codemirror_mode": {
    "name": "ipython",
    "version": 3
   },
   "file_extension": ".py",
   "mimetype": "text/x-python",
   "name": "python",
   "nbconvert_exporter": "python",
   "pygments_lexer": "ipython3",
   "version": "3.11.6"
  },
  "orig_nbformat": 4,
  "vscode": {
   "interpreter": {
    "hash": "75d1a310abc581491758488b622f6d4ebb8a14eb5e6f907822d34c523573fd08"
   }
  }
 },
 "nbformat": 4,
 "nbformat_minor": 2
}
