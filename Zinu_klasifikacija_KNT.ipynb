{
 "cells": [
  {
   "cell_type": "code",
   "execution_count": 106,
   "metadata": {},
   "outputs": [],
   "source": [
    "import tensorflow as tf\n",
    "import pandas as pd\n",
    "import numpy as np\n",
    "from keras.preprocessing.text import Tokenizer\n",
    "from keras.preprocessing.sequence import pad_sequences\n",
    "from sklearn.model_selection import train_test_split\n",
    "from lvclassify_helpers import getdata10cat, getlvstopwords"
   ]
  },
  {
   "attachments": {},
   "cell_type": "markdown",
   "metadata": {},
   "source": [
    "#### Datu ielāde"
   ]
  },
  {
   "cell_type": "code",
   "execution_count": 107,
   "metadata": {},
   "outputs": [
    {
     "data": {
      "text/html": [
       "<div>\n",
       "<style scoped>\n",
       "    .dataframe tbody tr th:only-of-type {\n",
       "        vertical-align: middle;\n",
       "    }\n",
       "\n",
       "    .dataframe tbody tr th {\n",
       "        vertical-align: top;\n",
       "    }\n",
       "\n",
       "    .dataframe thead th {\n",
       "        text-align: right;\n",
       "    }\n",
       "</style>\n",
       "<table border=\"1\" class=\"dataframe\">\n",
       "  <thead>\n",
       "    <tr style=\"text-align: right;\">\n",
       "      <th></th>\n",
       "      <th>category</th>\n",
       "      <th>body</th>\n",
       "    </tr>\n",
       "  </thead>\n",
       "  <tbody>\n",
       "    <tr>\n",
       "      <th>0</th>\n",
       "      <td>Sports</td>\n",
       "      <td>Reaģējot uz  Latvijas Paralimpiskās komitejas ...</td>\n",
       "    </tr>\n",
       "    <tr>\n",
       "      <th>1</th>\n",
       "      <td>Sports</td>\n",
       "      <td>Latvijas tenisiste  Jeļena Ostapenko  šodien Ķ...</td>\n",
       "    </tr>\n",
       "    <tr>\n",
       "      <th>2</th>\n",
       "      <td>Sports</td>\n",
       "      <td>Latvijas Sporta federāciju padome  (LSFP) iebi...</td>\n",
       "    </tr>\n",
       "    <tr>\n",
       "      <th>3</th>\n",
       "      <td>Sports</td>\n",
       "      <td>Jaunais sporta finansējuma modelis samazinās f...</td>\n",
       "    </tr>\n",
       "    <tr>\n",
       "      <th>4</th>\n",
       "      <td>Sports</td>\n",
       "      <td>Aleksandrs  un  Mihails Samoilovi  piektdien S...</td>\n",
       "    </tr>\n",
       "  </tbody>\n",
       "</table>\n",
       "</div>"
      ],
      "text/plain": [
       "  category                                               body\n",
       "0   Sports  Reaģējot uz  Latvijas Paralimpiskās komitejas ...\n",
       "1   Sports  Latvijas tenisiste  Jeļena Ostapenko  šodien Ķ...\n",
       "2   Sports  Latvijas Sporta federāciju padome  (LSFP) iebi...\n",
       "3   Sports  Jaunais sporta finansējuma modelis samazinās f...\n",
       "4   Sports  Aleksandrs  un  Mihails Samoilovi  piektdien S..."
      ]
     },
     "execution_count": 107,
     "metadata": {},
     "output_type": "execute_result"
    }
   ],
   "source": [
    "df = getdata10cat()\n",
    "df.head()"
   ]
  },
  {
   "attachments": {},
   "cell_type": "markdown",
   "metadata": {},
   "source": [
    "#### Kategorijas vērtības uz integer"
   ]
  },
  {
   "cell_type": "code",
   "execution_count": 108,
   "metadata": {},
   "outputs": [
    {
     "name": "stdout",
     "output_type": "stream",
     "text": [
      "  category                                               body  encod_cat\n",
      "0   Sports  Reaģējot uz  Latvijas Paralimpiskās komitejas ...          8\n",
      "1   Sports  Latvijas tenisiste  Jeļena Ostapenko  šodien Ķ...          8\n",
      "2   Sports  Latvijas Sporta federāciju padome  (LSFP) iebi...          8\n",
      "3   Sports  Jaunais sporta finansējuma modelis samazinās f...          8\n",
      "4   Sports  Aleksandrs  un  Mihails Samoilovi  piektdien S...          8\n",
      "category\n",
      "Sports           1200\n",
      "Politika         1200\n",
      "Literatūra       1200\n",
      "Finanses         1200\n",
      "Atpūta           1200\n",
      "Kriminālziņas    1200\n",
      "Kino             1200\n",
      "Mūzika           1200\n",
      "Auto             1200\n",
      "Tehnoloģijas     1200\n",
      "Name: count, dtype: int64\n",
      "encod_cat\n",
      "8    1200\n",
      "7    1200\n",
      "5    1200\n",
      "2    1200\n",
      "0    1200\n",
      "4    1200\n",
      "3    1200\n",
      "6    1200\n",
      "1    1200\n",
      "9    1200\n",
      "Name: count, dtype: int64\n"
     ]
    }
   ],
   "source": [
    "from sklearn.preprocessing import LabelEncoder\n",
    "le = LabelEncoder().fit(df[\"category\"])\n",
    "df['encod_cat'] = le.transform(df['category'])\n",
    "# Sanity-check kategorijas datu kodējumam\n",
    "print(df.head(5))\n",
    "print(df.category.value_counts())\n",
    "print(df.encod_cat.value_counts())"
   ]
  },
  {
   "attachments": {},
   "cell_type": "markdown",
   "metadata": {},
   "source": [
    "#### Sadalam datus 80/20"
   ]
  },
  {
   "cell_type": "code",
   "execution_count": 109,
   "metadata": {},
   "outputs": [
    {
     "name": "stdout",
     "output_type": "stream",
     "text": [
      "(9600,) (2400,) (9600,) (2400,)\n"
     ]
    }
   ],
   "source": [
    "x_train, x_test, y_train, y_test = train_test_split(\n",
    "    df['body'], df['encod_cat'], test_size=.2, stratify=df['encod_cat'], random_state=42)\n",
    "\n",
    "print(x_train.shape, x_test.shape, y_train.shape, y_test.shape)"
   ]
  },
  {
   "cell_type": "code",
   "execution_count": 110,
   "metadata": {},
   "outputs": [
    {
     "name": "stdout",
     "output_type": "stream",
     "text": [
      "['aiz', 'ap', 'apakš', 'apakšpus', 'ar', 'arī', 'augšpus', 'bet', 'bez', 'bija', 'biji', 'biju', 'bijām', 'bijāt', 'būs', 'būsi', 'būsiet', 'būsim', 'būt', 'būšu', 'caur', 'diemžēl', 'diezin', 'droši', 'dēļ', 'esam', 'esat', 'esi', 'esmu', 'gan', 'gar', 'iekam', 'iekams', 'iekām', 'iekāms', 'iekš', 'iekšpus', 'ik', 'ir', 'it', 'itin', 'iz', 'ja', 'jau', 'jeb', 'jebšu', 'jel', 'jo', 'jā', 'ka', 'kamēr', 'kaut', 'kolīdz', 'kopš', 'kā', 'kļuva', 'kļuvi', 'kļuvu', 'kļuvām', 'kļuvāt', 'kļūs', 'kļūsi', 'kļūsiet', 'kļūsim', 'kļūst', 'kļūstam', 'kļūstat', 'kļūsti', 'kļūstu', 'kļūt', 'kļūšu', 'labad', 'lai', 'lejpus', 'līdz', 'līdzko', 'ne', 'nebūt', 'nedz', 'nekā', 'nevis', 'nezin', 'no', 'nu', 'nē', 'otrpus', 'pa', 'par', 'pat', 'pie', 'pirms', 'pret', 'priekš', 'pār', 'pēc', 'starp', 'tad', 'tak', 'tapi', 'taps', 'tapsi', 'tapsiet', 'tapsim', 'tapt', 'tapāt', 'tapšu', 'taču', 'te', 'tiec', 'tiek', 'tiekam', 'tiekat', 'tieku', 'tik', 'tika', 'tikai', 'tiki', 'tikko', 'tiklab', 'tiklīdz', 'tiks', 'tiksiet', 'tiksim', 'tikt', 'tiku', 'tikvien', 'tikām', 'tikāt', 'tikšu', 'tomēr', 'topat', 'turpretim', 'turpretī', 'tā', 'tādēļ', 'tālab', 'tāpēc', 'un', 'uz', 'vai', 'var', 'varat', 'varēja', 'varēji', 'varēju', 'varējām', 'varējāt', 'varēs', 'varēsi', 'varēsiet', 'varēsim', 'varēt', 'varēšu', 'vien', 'virs', 'virspus', 'vis', 'viņpus', 'zem', 'ārpus', 'šaipus', 'šis', 'šī', 'šie', 'šīs', 'šā', 'šī', 'šās', 'šīs', 'šos', 'šo', 'šim', 'šai', 'šiem', 'šīm', 'šo', 'šo', 'šos', 'šīs', 'šajā', 'šai', 'šinī', 'šajā', 'šai', 'šinī', 'šajos', 'šais', 'šinīs', 'šajās', 'šais', 'šinīs', 'tas', 'tā', 'tie', 'tās', 'tā', 'tās', 'to', 'to', 'tam', 'tai', 'tiem', 'tām', 'to', 'to', 'tos', 'tās', 'tajā', 'tai', 'tanī', 'tajā', 'tai', 'tanī', 'tajos', 'tais', 'tanīs', 'tajās', 'tais', 'tanīs', 'viņš', 'viņa']\n"
     ]
    }
   ],
   "source": [
    "import string\n",
    "punct = string.punctuation\n",
    "stopwords_arr = getlvstopwords()\n",
    "print(stopwords_arr)"
   ]
  },
  {
   "cell_type": "code",
   "execution_count": 111,
   "metadata": {},
   "outputs": [],
   "source": [
    "def filter_stop_words(train_sentences):\n",
    "    for i, sentence in enumerate(train_sentences):\n",
    "        new_sent = [word for word in sentence.split() if word not in stopwords_arr]\n",
    "        train_sentences.iloc[i]  = ' '.join(new_sent)\n",
    "    return train_sentences\n",
    "x_train = filter_stop_words(x_train)\n"
   ]
  },
  {
   "attachments": {},
   "cell_type": "markdown",
   "metadata": {},
   "source": [
    "#### Tokenizācija"
   ]
  },
  {
   "cell_type": "code",
   "execution_count": 112,
   "metadata": {},
   "outputs": [],
   "source": [
    "vocab_size = 20000\n",
    "token_filter = '!\"#$%&()*+,-./:;<=>?@[\\]^_`{|}~'\n",
    "tokenizer = Tokenizer(num_words=vocab_size, oov_token='<OOV>', filters=token_filter, lower=True)\n",
    "tokenizer.fit_on_texts(x_train)\n",
    "word_index = tokenizer.word_index\n",
    "x_seq = tokenizer.texts_to_sequences(x_train)"
   ]
  },
  {
   "attachments": {},
   "cell_type": "markdown",
   "metadata": {},
   "source": [
    "#### Pārbaudam max sequence garumu"
   ]
  },
  {
   "cell_type": "code",
   "execution_count": 113,
   "metadata": {},
   "outputs": [
    {
     "name": "stdout",
     "output_type": "stream",
     "text": [
      "5861\n"
     ]
    }
   ],
   "source": [
    "print(max([len(e) for e in x_seq]))"
   ]
  },
  {
   "attachments": {},
   "cell_type": "markdown",
   "metadata": {},
   "source": [
    "#### Pevienojam padding, visas rindas būs ar vienādu garumu"
   ]
  },
  {
   "cell_type": "code",
   "execution_count": 114,
   "metadata": {},
   "outputs": [],
   "source": [
    "padding_type = 'post'\n",
    "max_len = 4500\n",
    "x_train = pad_sequences(x_seq, padding=padding_type, maxlen=max_len)\n",
    "x_test = pad_sequences(tokenizer.texts_to_sequences(x_test), padding=padding_type, maxlen=max_len)"
   ]
  },
  {
   "cell_type": "code",
   "execution_count": 115,
   "metadata": {},
   "outputs": [
    {
     "data": {
      "text/plain": [
       "(9600, 4500)"
      ]
     },
     "execution_count": 115,
     "metadata": {},
     "output_type": "execute_result"
    }
   ],
   "source": [
    "x_train.shape"
   ]
  },
  {
   "attachments": {},
   "cell_type": "markdown",
   "metadata": {},
   "source": [
    "#### Neironu tīkla izveide ar konvolūcijas slāni"
   ]
  },
  {
   "cell_type": "code",
   "execution_count": 162,
   "metadata": {},
   "outputs": [],
   "source": [
    "model = tf.keras.Sequential([\n",
    "                            tf.keras.layers.Embedding(vocab_size, 200, input_length=x_train.shape[1]),\n",
    "                            tf.keras.layers.Conv1D(100, 5, activation='relu'),\n",
    "                            tf.keras.layers.GlobalMaxPooling1D(),\n",
    "                            tf.keras.layers.Dropout(0.5),\n",
    "                            tf.keras.layers.Dense(df['category'].nunique(), activation='softmax')\n",
    "])"
   ]
  },
  {
   "cell_type": "code",
   "execution_count": 163,
   "metadata": {},
   "outputs": [
    {
     "name": "stdout",
     "output_type": "stream",
     "text": [
      "Model: \"sequential_6\"\n",
      "_________________________________________________________________\n",
      " Layer (type)                Output Shape              Param #   \n",
      "=================================================================\n",
      " embedding_13 (Embedding)    (None, 4500, 200)         4000000   \n",
      "                                                                 \n",
      " conv1d_6 (Conv1D)           (None, 4496, 100)         100100    \n",
      "                                                                 \n",
      " global_max_pooling1d_6 (Gl  (None, 100)               0         \n",
      " obalMaxPooling1D)                                               \n",
      "                                                                 \n",
      " dropout_13 (Dropout)        (None, 100)               0         \n",
      "                                                                 \n",
      " dense_18 (Dense)            (None, 10)                1010      \n",
      "                                                                 \n",
      "=================================================================\n",
      "Total params: 4101110 (15.64 MB)\n",
      "Trainable params: 4101110 (15.64 MB)\n",
      "Non-trainable params: 0 (0.00 Byte)\n",
      "_________________________________________________________________\n"
     ]
    }
   ],
   "source": [
    "model.compile(loss='sparse_categorical_crossentropy', optimizer='adam', metrics=['accuracy'])\n",
    "model.summary()"
   ]
  },
  {
   "cell_type": "code",
   "execution_count": 164,
   "metadata": {},
   "outputs": [],
   "source": [
    "model_save_path='./models/KNT_model.h5'\n",
    "\n",
    "callbacks = [tf.keras.callbacks.ModelCheckpoint(filepath=model_save_path,save_weights_only=True,monitor='val_loss',mode='min',save_best_only=True)]"
   ]
  },
  {
   "attachments": {},
   "cell_type": "markdown",
   "metadata": {},
   "source": [
    "#### Apmācam neironu tīklu 10 etapos"
   ]
  },
  {
   "cell_type": "code",
   "execution_count": 165,
   "metadata": {},
   "outputs": [
    {
     "name": "stdout",
     "output_type": "stream",
     "text": [
      "Epoch 1/10\n",
      "300/300 - 113s - loss: 1.3679 - accuracy: 0.6019 - val_loss: 0.4160 - val_accuracy: 0.9108 - 113s/epoch - 377ms/step\n",
      "Epoch 2/10\n",
      "300/300 - 112s - loss: 0.3540 - accuracy: 0.9070 - val_loss: 0.2226 - val_accuracy: 0.9446 - 112s/epoch - 373ms/step\n",
      "Epoch 3/10\n",
      "300/300 - 110s - loss: 0.1741 - accuracy: 0.9563 - val_loss: 0.1756 - val_accuracy: 0.9542 - 110s/epoch - 365ms/step\n",
      "Epoch 4/10\n",
      "300/300 - 109s - loss: 0.0945 - accuracy: 0.9761 - val_loss: 0.1665 - val_accuracy: 0.9567 - 109s/epoch - 364ms/step\n",
      "Epoch 5/10\n",
      "300/300 - 110s - loss: 0.0576 - accuracy: 0.9864 - val_loss: 0.1637 - val_accuracy: 0.9571 - 110s/epoch - 366ms/step\n",
      "Epoch 6/10\n",
      "300/300 - 110s - loss: 0.0355 - accuracy: 0.9931 - val_loss: 0.1724 - val_accuracy: 0.9546 - 110s/epoch - 368ms/step\n",
      "Epoch 7/10\n",
      "300/300 - 33860s - loss: 0.0311 - accuracy: 0.9937 - val_loss: 0.1740 - val_accuracy: 0.9575 - 33860s/epoch - 113s/step\n",
      "Epoch 8/10\n",
      "300/300 - 110s - loss: 0.0184 - accuracy: 0.9957 - val_loss: 0.1772 - val_accuracy: 0.9554 - 110s/epoch - 367ms/step\n",
      "Epoch 9/10\n",
      "300/300 - 109s - loss: 0.0125 - accuracy: 0.9981 - val_loss: 0.1832 - val_accuracy: 0.9571 - 109s/epoch - 362ms/step\n",
      "Epoch 10/10\n",
      "300/300 - 108s - loss: 0.0087 - accuracy: 0.9986 - val_loss: 0.1845 - val_accuracy: 0.9542 - 108s/epoch - 361ms/step\n",
      "CPU times: total: 3h 34min 59s\n",
      "Wall time: 9h 40min 50s\n"
     ]
    }
   ],
   "source": [
    "%%time\n",
    "rezultats = model.fit(x_train, y_train, epochs=10, validation_data=(x_test, y_test), verbose=2, callbacks=callbacks)"
   ]
  },
  {
   "cell_type": "code",
   "execution_count": 166,
   "metadata": {},
   "outputs": [
    {
     "name": "stdout",
     "output_type": "stream",
     "text": [
      "75/75 [==============================] - 6s 80ms/step\n",
      "(2400,)\n",
      "(2400,)\n",
      "              precision    recall  f1-score   support\n",
      "\n",
      "           0     0.9424    0.9542    0.9482       240\n",
      "           1     0.9752    0.9833    0.9793       240\n",
      "           2     0.9212    0.9250    0.9231       240\n",
      "           3     0.9833    0.9792    0.9812       240\n",
      "           4     0.9787    0.9583    0.9684       240\n",
      "           5     0.9592    0.9792    0.9691       240\n",
      "           6     0.9545    0.9625    0.9585       240\n",
      "           7     0.9412    0.9333    0.9372       240\n",
      "           8     0.9876    0.9917    0.9896       240\n",
      "           9     0.9274    0.9042    0.9156       240\n",
      "\n",
      "    accuracy                         0.9571      2400\n",
      "   macro avg     0.9571    0.9571    0.9570      2400\n",
      "weighted avg     0.9571    0.9571    0.9570      2400\n",
      "\n"
     ]
    },
    {
     "data": {
      "image/png": "[encoded data removed]",
      "text/plain": [
       "<Figure size 640x480 with 2 Axes>"
      ]
     },
     "metadata": {},
     "output_type": "display_data"
    }
   ],
   "source": [
    "from sklearn.metrics import accuracy_score, classification_report, confusion_matrix, ConfusionMatrixDisplay\n",
    "from pathlib import Path\n",
    "\n",
    "model_load_path='./models/KNT_model.h5'\n",
    "model.load_weights(model_load_path)\n",
    "\n",
    "y_pred = model.predict(x_test)\n",
    "y_pred = np.argmax(y_pred, axis=1)\n",
    "print(y_test.shape)\n",
    "print(y_pred.shape)\n",
    "cm = confusion_matrix(y_test, y_pred)\n",
    "labels = ['Atpūta', 'Auto', 'Finanses', 'Kino', 'Kriminālziņas', 'Literatūra', 'Mūzika', 'Politika', 'Sports', 'Tehnoloģijas']\n",
    "plot = ConfusionMatrixDisplay(confusion_matrix=cm,\n",
    "                              display_labels=labels)\n",
    "plot.plot(xticks_rotation=90)\n",
    "plot.ax_.set_title(\"KNT\")\n",
    "print(classification_report(y_test, y_pred, digits=4))\n",
    "clsf_report = pd.DataFrame(classification_report(y_true = y_test, y_pred = y_pred, output_dict=True)).transpose()\n",
    "accuracy_4dig = round(accuracy_score(y_test, y_pred), 4)\n",
    "filenameCsv = 'Report KNT_'+ str(accuracy_4dig) + '.csv'\n",
    "clsf_report.to_csv(Path(\".\") / 'metrics' / filenameCsv, index= True)\n"
   ]
  },
  {
   "cell_type": "code",
   "execution_count": 167,
   "metadata": {},
   "outputs": [
    {
     "data": {
      "image/png": "[encoded data removed]",
      "text/plain": [
       "<Figure size 1200x500 with 2 Axes>"
      ]
     },
     "metadata": {},
     "output_type": "display_data"
    }
   ],
   "source": [
    "import matplotlib.pyplot as plt\n",
    "\n",
    "plt.figure(figsize=(12, 5))\n",
    "ax = plt.subplot(121)\n",
    "plt.plot(rezultats.history['accuracy'])\n",
    "plt.plot(rezultats.history['val_accuracy'])\n",
    "plt.xlabel(\"Epohs\")\n",
    "plt.ylabel(\"Akurātums (Accuracy)\")\n",
    "plt.legend(['apmācības akurātums', 'testu akurātums'])\n",
    "plt.subplot(122)\n",
    "plt.plot(rezultats.history['loss'])\n",
    "plt.plot(rezultats.history['val_loss']);\n",
    "plt.xlabel(\"Epohs\")\n",
    "plt.ylabel(\"Zudums (Loss)\")\n",
    "plt.legend(['apmācības zudums', 'testu zudums']);"
   ]
  },
  {
   "cell_type": "code",
   "execution_count": 168,
   "metadata": {},
   "outputs": [],
   "source": [
    "def getLabel(index):\n",
    "    labels = ['Atpūta', 'Auto', 'Finanses', 'Kino', 'Kriminālziņas', 'Literatūra', 'Mūzika', 'Politika', 'Sports', 'Tehnoloģijas']\n",
    "    return labels[index]"
   ]
  },
  {
   "cell_type": "code",
   "execution_count": 169,
   "metadata": {},
   "outputs": [],
   "source": [
    "def predict(text):\n",
    "    seq = tokenizer.texts_to_sequences([text])\n",
    "    padded = pad_sequences(seq, maxlen=max_len)\n",
    "    prediction = model.predict(padded)\n",
    "    predictionList = prediction.tolist()[0]\n",
    "    labeled_predictions = [{getLabel(i):\"%.2f%%\"%(x*100)} for i, x in enumerate(predictionList)]\n",
    "    return labeled_predictions"
   ]
  },
  {
   "cell_type": "code",
   "execution_count": 170,
   "metadata": {},
   "outputs": [
    {
     "name": "stdout",
     "output_type": "stream",
     "text": [
      "1/1 [==============================] - 0s 48ms/step\n"
     ]
    },
    {
     "data": {
      "text/plain": [
       "[{'Atpūta': '0.02%'},\n",
       " {'Auto': '0.01%'},\n",
       " {'Finanses': '0.05%'},\n",
       " {'Kino': '0.01%'},\n",
       " {'Kriminālziņas': '0.02%'},\n",
       " {'Literatūra': '0.02%'},\n",
       " {'Mūzika': '0.04%'},\n",
       " {'Politika': '99.77%'},\n",
       " {'Sports': '0.03%'},\n",
       " {'Tehnoloģijas': '0.03%'}]"
      ]
     },
     "execution_count": 170,
     "metadata": {},
     "output_type": "execute_result"
    }
   ],
   "source": [
    "predict(\"\"\"Pirmdien, 4. septembrī, premjera amatam nominētā Evika Siliņa (JV) sāks nākamās koalīcijas sarunas, dalot ministru amatus \"Jaunās Vienotības\", Zaļo un zemnieku savienības (ZZS) un partijas \"Progresīvie\" starpā.\n",
    "\n",
    "Piektdien, 1. septembrī, Siliņa preses konferencē informēja, ka, \"Apvienotajam sarakstam\" nepiekrītot darboties nākamajā koalīcijā, tajā darbosies trīs politiskie spēki, kuriem Saeimā kopumā ir 52 balsis.\n",
    "\n",
    "Siliņa gan neizslēdza iespēju, ka ar laiku koalīcijai varētu pievienoties vēl kāds partneris. \"Vienmēr pastāv iespēja iegūt vairāk balsis, ja labi strādā,\" teica Siliņa.\n",
    "\n",
    "Kā viens no potenciālajiem nākamās koalīcijas atbalstītājiem varētu būt pie frakcijām nepiederošais Oļegs Burovs, ar kuru Siliņa gan neesot runājusi, bet to darot cits nākamās koalīcijas partneris.\"\"\")"
   ]
  },
  {
   "cell_type": "code",
   "execution_count": 171,
   "metadata": {},
   "outputs": [
    {
     "name": "stdout",
     "output_type": "stream",
     "text": [
      "1/1 [==============================] - 0s 17ms/step\n"
     ]
    },
    {
     "data": {
      "text/plain": [
       "[{'Atpūta': '0.01%'},\n",
       " {'Auto': '0.04%'},\n",
       " {'Finanses': '2.84%'},\n",
       " {'Kino': '0.02%'},\n",
       " {'Kriminālziņas': '0.06%'},\n",
       " {'Literatūra': '0.01%'},\n",
       " {'Mūzika': '0.01%'},\n",
       " {'Politika': '0.04%'},\n",
       " {'Sports': '0.01%'},\n",
       " {'Tehnoloģijas': '96.96%'}]"
      ]
     },
     "execution_count": 171,
     "metadata": {},
     "output_type": "execute_result"
    }
   ],
   "source": [
    "predict(\"\"\"Starptautiskais pašapkalpošanās un automatizācijas risinājumu ražotājs \"Omnic\" Liepājā būvēs jaunu rūpnīcu, lai ražotu pakomātus Eiropas tirgum, liecina uzņēmuma sniegtā informācija.\n",
    "\n",
    "Šobrīd vēl tiek precizēta potenciāli vislabākā atrašanās vieta ražotnei, bet pirmie būvdarbi varētu tikt uzsākti jau šogad.\n",
    "\n",
    "Darbu jaunā rūpnīca varētu sākt 2024. gadā.\n",
    "\n",
    "Kā norāda uzņēmumā, šobrīd vēl esot grūti pateikt precīzas Liepājas rūpnīcas izmaksas, bet līdzīgā ražotnē Gruzijā \"Omnic\" investēja 8 miljonus eiro.\n",
    "\n",
    "Liepājas rūpnīcā plānots ražot paku skapīšus, pašapkalpošanās kases aparātus, ar saules paneļiem aprīkotus pakomātus, paku skapīšus-ledusskapjus, kā arī dažādus citus pašapkalpošanās un automatizācijas risinājumus.\"\"\")"
   ]
  },
  {
   "cell_type": "code",
   "execution_count": 172,
   "metadata": {},
   "outputs": [
    {
     "name": "stdout",
     "output_type": "stream",
     "text": [
      "1/1 [==============================] - 0s 15ms/step\n"
     ]
    },
    {
     "data": {
      "text/plain": [
       "[{'Atpūta': '0.12%'},\n",
       " {'Auto': '0.01%'},\n",
       " {'Finanses': '0.12%'},\n",
       " {'Kino': '0.01%'},\n",
       " {'Kriminālziņas': '99.41%'},\n",
       " {'Literatūra': '0.00%'},\n",
       " {'Mūzika': '0.00%'},\n",
       " {'Politika': '0.10%'},\n",
       " {'Sports': '0.00%'},\n",
       " {'Tehnoloģijas': '0.23%'}]"
      ]
     },
     "execution_count": 172,
     "metadata": {},
     "output_type": "execute_result"
    }
   ],
   "source": [
    "predict(\"\"\"Aizvadītajā diennaktī valstī reģistrēti 136 ceļu satiksmes negadījumi, tajos cietušas 13 personas, liecina Valsts policijas apkopotie dati.\n",
    "\n",
    "Četri no cietušajiem bijuši gājēji, tāpat cietis viens velosipēdists un viens elektrisko skrejriteņu vadītājs.\n",
    "\n",
    "Kopumā ceļu satiksmes jomā pieņemti 456 administratīvo pārkāpumu lēmumi, tajā skaitā 195 par ātruma pārsniegšanu un viens par agresīvu braukšanu.\"\"\")"
   ]
  },
  {
   "cell_type": "code",
   "execution_count": 173,
   "metadata": {},
   "outputs": [
    {
     "name": "stdout",
     "output_type": "stream",
     "text": [
      "1/1 [==============================] - 0s 15ms/step\n"
     ]
    },
    {
     "data": {
      "text/plain": [
       "[{'Atpūta': '0.01%'},\n",
       " {'Auto': '1.68%'},\n",
       " {'Finanses': '0.02%'},\n",
       " {'Kino': '0.05%'},\n",
       " {'Kriminālziņas': '0.00%'},\n",
       " {'Literatūra': '0.01%'},\n",
       " {'Mūzika': '0.01%'},\n",
       " {'Politika': '0.02%'},\n",
       " {'Sports': '98.19%'},\n",
       " {'Tehnoloģijas': '0.01%'}]"
      ]
     },
     "execution_count": 173,
     "metadata": {},
     "output_type": "execute_result"
    }
   ],
   "source": [
    "predict(\"\"\"Serbijas tenisists Novaks Džokovičs piektdien ASV atklātā čempionāta trešās kārtas spēlē pret savu tautieti Laslo Džeri zaudēja pirmajos divos setos, tomēr atspēlējās un svinēja uzvaru.\n",
    "\n",
    "Ranga vicelīderis Džokovičs ATP 38.numuru Džeri vairāk nekā trīsarpus stundu cīņā uzvarēja ar rezultātu 4-6, 4-6, 6-1, 6-1, 6-3.\n",
    "\n",
    "Kopš 2007.gada Džokovičs visos \"US Open\" turnīros, kuros piedalījies, ticis tālāk par trešo kārtu, 2011., 2015. un 2018.gadā kļūstot par čempionu.\n",
    "\n",
    "\"Esmu parādījis, ka varu aizvadīt arī piecu setu mačus. Atspēlēšanās pēc diviem zaudētiem setiem rāda skaidru signālu maniem nākamajiem pretiniekiem, taču nav tā, ka vēlējos nonākt šādā situācijā. Labprāt uzvarētu trīs setos,\" pēc uzvaras teica Džokovičs.\"\"\")"
   ]
  },
  {
   "cell_type": "code",
   "execution_count": 174,
   "metadata": {},
   "outputs": [
    {
     "name": "stdout",
     "output_type": "stream",
     "text": [
      "1/1 [==============================] - 0s 15ms/step\n"
     ]
    },
    {
     "data": {
      "text/plain": [
       "[{'Atpūta': '20.84%'},\n",
       " {'Auto': '2.08%'},\n",
       " {'Finanses': '0.51%'},\n",
       " {'Kino': '3.42%'},\n",
       " {'Kriminālziņas': '0.88%'},\n",
       " {'Literatūra': '1.47%'},\n",
       " {'Mūzika': '65.41%'},\n",
       " {'Politika': '2.56%'},\n",
       " {'Sports': '2.33%'},\n",
       " {'Tehnoloģijas': '0.50%'}]"
      ]
     },
     "execution_count": 174,
     "metadata": {},
     "output_type": "execute_result"
    }
   ],
   "source": [
    "predict(\"\"\"Populārā latviešu dziedātāja Samanta Tīna Poļakova \"Instagram\" vietnē pavēstījusi, ka teikusi jāvārdu savam draugam. Viņas pirkstā iemirdzējies gredzentiņš ar akmeni sirds formā.\n",
    "\n",
    "34 gadus vecā dziedātāja vēsta: \"Jā!\" un, apskāvusi savu mīļoto, ziņo, ka saderināšanās notikusi 30. augustā. Vairāki desmiti tūkstoši Samantas sekotāji priecīgo ziņu novērtējuši atzinīgi.\n",
    "\n",
    "Samanta Tīna līdz šim nav atklājusi, kā sauc viņas mīļoto vīrieti jau labu laiku māksliniece izvēlējusies savu privāto dzīvi neafišēt.\n",
    "\n",
    "Pirms trim gadiem dziedātāja šķīrās no sava ilgaddējā drauga Naura Liepiņa. Šajā pavasarī TV raidījumā \"Kad viņas satiekas\" Samanta atklāja, ka vairs nav brīvas meitenes statusā ar mīļoto iepazinusies 2022. gada rudenī pirms sev nozīmīgā ceļojuma uz Indiju. Puiša vārdu neatklājot, māksliniece vēstīja, ka abi iepazinušies attālināti un pēc ilgākas sarakstes pirmo reizi satikušies Samantas koncertā.\"\"\")"
   ]
  }
 ],
 "metadata": {
  "kernelspec": {
   "display_name": "Python 3",
   "language": "python",
   "name": "python3"
  },
  "language_info": {
   "codemirror_mode": {
    "name": "ipython",
    "version": 3
   },
   "file_extension": ".py",
   "mimetype": "text/x-python",
   "name": "python",
   "nbconvert_exporter": "python",
   "pygments_lexer": "ipython3",
   "version": "3.11.6"
  },
  "vscode": {
   "interpreter": {
    "hash": "75d1a310abc581491758488b622f6d4ebb8a14eb5e6f907822d34c523573fd08"
   }
  }
 },
 "nbformat": 4,
 "nbformat_minor": 4
}
