{
 "cells": [
  {
   "cell_type": "code",
   "execution_count": 1,
   "metadata": {},
   "outputs": [],
   "source": [
    "import tensorflow as tf\n",
    "import pandas as pd\n",
    "import numpy as np\n",
    "from tensorflow.keras.preprocessing.text import Tokenizer\n",
    "from tensorflow.keras.preprocessing.sequence import pad_sequences\n",
    "from sklearn.model_selection import train_test_split"
   ]
  },
  {
   "attachments": {},
   "cell_type": "markdown",
   "metadata": {},
   "source": [
    "#### Datu ielāde"
   ]
  },
  {
   "cell_type": "code",
   "execution_count": 2,
   "metadata": {},
   "outputs": [
    {
     "data": {
      "text/html": [
       "<div>\n",
       "<style scoped>\n",
       "    .dataframe tbody tr th:only-of-type {\n",
       "        vertical-align: middle;\n",
       "    }\n",
       "\n",
       "    .dataframe tbody tr th {\n",
       "        vertical-align: top;\n",
       "    }\n",
       "\n",
       "    .dataframe thead th {\n",
       "        text-align: right;\n",
       "    }\n",
       "</style>\n",
       "<table border=\"1\" class=\"dataframe\">\n",
       "  <thead>\n",
       "    <tr style=\"text-align: right;\">\n",
       "      <th></th>\n",
       "      <th>category</th>\n",
       "      <th>body</th>\n",
       "    </tr>\n",
       "  </thead>\n",
       "  <tbody>\n",
       "    <tr>\n",
       "      <th>0</th>\n",
       "      <td>bizness</td>\n",
       "      <td>Gaļas pārstrādes uzņēmums AS \"HKScan  Latvia\" ...</td>\n",
       "    </tr>\n",
       "    <tr>\n",
       "      <th>1</th>\n",
       "      <td>bizness</td>\n",
       "      <td>Aizvadītajā nedēļā elektroenerģijas cenas sama...</td>\n",
       "    </tr>\n",
       "    <tr>\n",
       "      <th>2</th>\n",
       "      <td>bizness</td>\n",
       "      <td>Lidosta  \"Rīga\" šā gada jūliju noslēgusi ar re...</td>\n",
       "    </tr>\n",
       "    <tr>\n",
       "      <th>3</th>\n",
       "      <td>bizness</td>\n",
       "      <td>2023. gada jūlijā, salīdzinot ar 2022. gada jū...</td>\n",
       "    </tr>\n",
       "    <tr>\n",
       "      <th>4</th>\n",
       "      <td>bizness</td>\n",
       "      <td>Ņemot vērā iedzīvotāju publiski izskanējušās b...</td>\n",
       "    </tr>\n",
       "  </tbody>\n",
       "</table>\n",
       "</div>"
      ],
      "text/plain": [
       "  category                                               body\n",
       "0  bizness  Gaļas pārstrādes uzņēmums AS \"HKScan  Latvia\" ...\n",
       "1  bizness  Aizvadītajā nedēļā elektroenerģijas cenas sama...\n",
       "2  bizness  Lidosta  \"Rīga\" šā gada jūliju noslēgusi ar re...\n",
       "3  bizness  2023. gada jūlijā, salīdzinot ar 2022. gada jū...\n",
       "4  bizness  Ņemot vērā iedzīvotāju publiski izskanējušās b..."
      ]
     },
     "execution_count": 2,
     "metadata": {},
     "output_type": "execute_result"
    }
   ],
   "source": [
    "df = pd.read_json('5cat_big.json')\n",
    "df.drop(['title', 'link'], axis=1, inplace=True)\n",
    "df.head()"
   ]
  },
  {
   "attachments": {},
   "cell_type": "markdown",
   "metadata": {},
   "source": [
    "#### Kategorijas vērtības uz integer"
   ]
  },
  {
   "cell_type": "code",
   "execution_count": 3,
   "metadata": {},
   "outputs": [
    {
     "name": "stdout",
     "output_type": "stream",
     "text": [
      "  category                                               body  encod_cat\n",
      "0  bizness  Gaļas pārstrādes uzņēmums AS \"HKScan  Latvia\" ...          0\n",
      "1  bizness  Aizvadītajā nedēļā elektroenerģijas cenas sama...          0\n",
      "2  bizness  Lidosta  \"Rīga\" šā gada jūliju noslēgusi ar re...          0\n",
      "3  bizness  2023. gada jūlijā, salīdzinot ar 2022. gada jū...          0\n",
      "4  bizness  Ņemot vērā iedzīvotāju publiski izskanējušās b...          0\n",
      "category\n",
      "politika    1633\n",
      "criminal    1286\n",
      "izklaide    1261\n",
      "sports      1180\n",
      "bizness     1165\n",
      "Name: count, dtype: int64\n",
      "encod_cat\n",
      "3    1633\n",
      "1    1286\n",
      "2    1261\n",
      "4    1180\n",
      "0    1165\n",
      "Name: count, dtype: int64\n"
     ]
    }
   ],
   "source": [
    "from sklearn.preprocessing import LabelEncoder\n",
    "le = LabelEncoder().fit(df[\"category\"])\n",
    "df['encod_cat'] = le.transform(df['category'])\n",
    "# Sanity-check kategorijas datu kodējumam\n",
    "print(df.head(5))\n",
    "print(df.category.value_counts())\n",
    "print(df.encod_cat.value_counts())"
   ]
  },
  {
   "attachments": {},
   "cell_type": "markdown",
   "metadata": {},
   "source": [
    "#### Sadalam datus 80/20"
   ]
  },
  {
   "cell_type": "code",
   "execution_count": 4,
   "metadata": {},
   "outputs": [
    {
     "name": "stdout",
     "output_type": "stream",
     "text": [
      "(5220,) (1305,) (5220,) (1305,)\n"
     ]
    }
   ],
   "source": [
    "x_train, x_test, y_train, y_test = train_test_split(\n",
    "    df['body'], df['encod_cat'], test_size=.2, stratify=df['category'], random_state=42)\n",
    "\n",
    "print(x_train.shape, x_test.shape, y_train.shape, y_test.shape)"
   ]
  },
  {
   "cell_type": "code",
   "execution_count": 5,
   "metadata": {},
   "outputs": [
    {
     "name": "stdout",
     "output_type": "stream",
     "text": [
      "['aiz', 'ap', 'apakš', 'apakšpus', 'ar', 'arī', 'augšpus', 'bet', 'bez', 'bija', 'biji', 'biju', 'bijām', 'bijāt', 'būs', 'būsi', 'būsiet', 'būsim', 'būt', 'būšu', 'caur', 'diemžēl', 'diezin', 'droši', 'dēļ', 'esam', 'esat', 'esi', 'esmu', 'gan', 'gar', 'iekam', 'iekams', 'iekām', 'iekāms', 'iekš', 'iekšpus', 'ik', 'ir', 'it', 'itin', 'iz', 'ja', 'jau', 'jeb', 'jebšu', 'jel', 'jo', 'jā', 'ka', 'kamēr', 'kaut', 'kolīdz', 'kopš', 'kā', 'kļuva', 'kļuvi', 'kļuvu', 'kļuvām', 'kļuvāt', 'kļūs', 'kļūsi', 'kļūsiet', 'kļūsim', 'kļūst', 'kļūstam', 'kļūstat', 'kļūsti', 'kļūstu', 'kļūt', 'kļūšu', 'labad', 'lai', 'lejpus', 'līdz', 'līdzko', 'ne', 'nebūt', 'nedz', 'nekā', 'nevis', 'nezin', 'no', 'nu', 'nē', 'otrpus', 'pa', 'par', 'pat', 'pie', 'pirms', 'pret', 'priekš', 'pār', 'pēc', 'starp', 'tad', 'tak', 'tapi', 'taps', 'tapsi', 'tapsiet', 'tapsim', 'tapt', 'tapāt', 'tapšu', 'taču', 'te', 'tiec', 'tiek', 'tiekam', 'tiekat', 'tieku', 'tik', 'tika', 'tikai', 'tiki', 'tikko', 'tiklab', 'tiklīdz', 'tiks', 'tiksiet', 'tiksim', 'tikt', 'tiku', 'tikvien', 'tikām', 'tikāt', 'tikšu', 'tomēr', 'topat', 'turpretim', 'turpretī', 'tā', 'tādēļ', 'tālab', 'tāpēc', 'un', 'uz', 'vai', 'var', 'varat', 'varēja', 'varēji', 'varēju', 'varējām', 'varējāt', 'varēs', 'varēsi', 'varēsiet', 'varēsim', 'varēt', 'varēšu', 'vien', 'virs', 'virspus', 'vis', 'viņpus', 'zem', 'ārpus', 'šaipus', 'šis', 'šī', 'šie', 'šīs', 'šā', 'šī', 'šās', 'šīs', 'šos', 'šo', 'šim', 'šai', 'šiem', 'šīm', 'šo', 'šo', 'šos', 'šīs', 'šajā', 'šai', 'šinī', 'šajā', 'šai', 'šinī', 'šajos', 'šais', 'šinīs', 'šajās', 'šais', 'šinīs', 'tas', 'tā', 'tie', 'tās', 'tā', 'tās', 'to', 'to', 'tam', 'tai', 'tiem', 'tām', 'to', 'to', 'tos', 'tās', 'tajā', 'tai', 'tanī', 'tajā', 'tai', 'tanī', 'tajos', 'tais', 'tanīs', 'tajās', 'tais', 'tanīs', 'viņš', 'viņa']\n"
     ]
    }
   ],
   "source": [
    "import string\n",
    "import json\n",
    "punct = string.punctuation\n",
    "stopwordsFile = open('stopwords-lv2.json', 'r', encoding=\"utf8\")\n",
    "stopwords_arr = json.load(stopwordsFile)\n",
    "print(stopwords_arr)"
   ]
  },
  {
   "cell_type": "code",
   "execution_count": 6,
   "metadata": {},
   "outputs": [],
   "source": [
    "def filter_stop_words(train_sentences):\n",
    "    for i, sentence in enumerate(train_sentences):\n",
    "        new_sent = [word for word in sentence.split() if word not in stopwords_arr]\n",
    "        train_sentences.iloc[i]  = ' '.join(new_sent)\n",
    "    return train_sentences\n",
    "x_train = filter_stop_words(x_train)\n"
   ]
  },
  {
   "attachments": {},
   "cell_type": "markdown",
   "metadata": {},
   "source": [
    "#### Tokenizācija"
   ]
  },
  {
   "cell_type": "code",
   "execution_count": 7,
   "metadata": {},
   "outputs": [],
   "source": [
    "vocab_size = 20000\n",
    "token_filter = '!\"#$%&()*+,-./:;<=>?@[\\]^_`{|}~'\n",
    "tokenizer = Tokenizer(num_words=vocab_size, oov_token='<OOV>', filters=token_filter, lower=True)\n",
    "tokenizer.fit_on_texts(x_train)\n",
    "word_index = tokenizer.word_index\n",
    "x_seq = tokenizer.texts_to_sequences(x_train)"
   ]
  },
  {
   "attachments": {},
   "cell_type": "markdown",
   "metadata": {},
   "source": [
    "#### Pārbaudam max sequence garumu"
   ]
  },
  {
   "cell_type": "code",
   "execution_count": 8,
   "metadata": {},
   "outputs": [
    {
     "name": "stdout",
     "output_type": "stream",
     "text": [
      "3088\n"
     ]
    }
   ],
   "source": [
    "print(max([len(e) for e in x_seq]))"
   ]
  },
  {
   "attachments": {},
   "cell_type": "markdown",
   "metadata": {},
   "source": [
    "#### Pevienojam padding, visas rindas būs ar vienādu garumu"
   ]
  },
  {
   "cell_type": "code",
   "execution_count": 9,
   "metadata": {},
   "outputs": [
    {
     "name": "stdout",
     "output_type": "stream",
     "text": [
      "3088\n"
     ]
    }
   ],
   "source": [
    "padding_type = 'post'\n",
    "print(max([len(e) for e in x_seq]))\n",
    "max_len = 3100\n",
    "x_train = pad_sequences(x_seq, padding=padding_type, maxlen=max_len)\n",
    "x_test = pad_sequences(tokenizer.texts_to_sequences(x_test), padding=padding_type, maxlen=max_len)"
   ]
  },
  {
   "cell_type": "code",
   "execution_count": 10,
   "metadata": {},
   "outputs": [
    {
     "data": {
      "text/plain": [
       "(5220, 3100)"
      ]
     },
     "execution_count": 10,
     "metadata": {},
     "output_type": "execute_result"
    }
   ],
   "source": [
    "x_train.shape"
   ]
  },
  {
   "attachments": {},
   "cell_type": "markdown",
   "metadata": {},
   "source": [
    "#### Neironu tīkla izveide ar konvolūcijas slāni"
   ]
  },
  {
   "cell_type": "code",
   "execution_count": 11,
   "metadata": {},
   "outputs": [],
   "source": [
    "model = tf.keras.Sequential([\n",
    "                            tf.keras.layers.Embedding(vocab_size, 32, input_length=x_train.shape[1]),\n",
    "                            tf.keras.layers.Conv1D(128, 5, activation='relu'),\n",
    "                            tf.keras.layers.GlobalMaxPooling1D(),\n",
    "                            tf.keras.layers.Dense(32, activation='relu'),\n",
    "                            tf.keras.layers.Dropout(0.2),\n",
    "                            tf.keras.layers.Dense(df['category'].nunique(), activation='softmax')\n",
    "])"
   ]
  },
  {
   "cell_type": "code",
   "execution_count": 12,
   "metadata": {},
   "outputs": [
    {
     "name": "stdout",
     "output_type": "stream",
     "text": [
      "Model: \"sequential\"\n",
      "_________________________________________________________________\n",
      " Layer (type)                Output Shape              Param #   \n",
      "=================================================================\n",
      " embedding (Embedding)       (None, 3100, 32)          640000    \n",
      "                                                                 \n",
      " conv1d (Conv1D)             (None, 3096, 128)         20608     \n",
      "                                                                 \n",
      " global_max_pooling1d (Glob  (None, 128)               0         \n",
      " alMaxPooling1D)                                                 \n",
      "                                                                 \n",
      " dense (Dense)               (None, 32)                4128      \n",
      "                                                                 \n",
      " dropout (Dropout)           (None, 32)                0         \n",
      "                                                                 \n",
      " dense_1 (Dense)             (None, 5)                 165       \n",
      "                                                                 \n",
      "=================================================================\n",
      "Total params: 664901 (2.54 MB)\n",
      "Trainable params: 664901 (2.54 MB)\n",
      "Non-trainable params: 0 (0.00 Byte)\n",
      "_________________________________________________________________\n"
     ]
    }
   ],
   "source": [
    "model.compile(loss='sparse_categorical_crossentropy', optimizer='adam', metrics=['accuracy'])\n",
    "model.summary()"
   ]
  },
  {
   "attachments": {},
   "cell_type": "markdown",
   "metadata": {},
   "source": [
    "#### Apmācam neironu tīklu 10 etapos"
   ]
  },
  {
   "cell_type": "code",
   "execution_count": 13,
   "metadata": {},
   "outputs": [
    {
     "name": "stdout",
     "output_type": "stream",
     "text": [
      "Epoch 1/10\n",
      "164/164 - 34s - loss: 1.3039 - accuracy: 0.4787 - val_loss: 0.6592 - val_accuracy: 0.8000 - 34s/epoch - 206ms/step\n",
      "Epoch 2/10\n",
      "164/164 - 34s - loss: 0.3499 - accuracy: 0.8975 - val_loss: 0.2258 - val_accuracy: 0.9234 - 34s/epoch - 209ms/step\n",
      "Epoch 3/10\n",
      "164/164 - 33s - loss: 0.1048 - accuracy: 0.9743 - val_loss: 0.1766 - val_accuracy: 0.9410 - 33s/epoch - 203ms/step\n",
      "Epoch 4/10\n",
      "164/164 - 34s - loss: 0.0351 - accuracy: 0.9939 - val_loss: 0.1667 - val_accuracy: 0.9487 - 34s/epoch - 207ms/step\n",
      "Epoch 5/10\n",
      "164/164 - 34s - loss: 0.0141 - accuracy: 0.9985 - val_loss: 0.1722 - val_accuracy: 0.9502 - 34s/epoch - 205ms/step\n",
      "Epoch 6/10\n",
      "164/164 - 34s - loss: 0.0073 - accuracy: 0.9992 - val_loss: 0.1795 - val_accuracy: 0.9510 - 34s/epoch - 205ms/step\n",
      "Epoch 7/10\n",
      "164/164 - 33s - loss: 0.0058 - accuracy: 0.9994 - val_loss: 0.1916 - val_accuracy: 0.9464 - 33s/epoch - 203ms/step\n",
      "Epoch 8/10\n",
      "164/164 - 34s - loss: 0.0039 - accuracy: 0.9998 - val_loss: 0.1886 - val_accuracy: 0.9517 - 34s/epoch - 210ms/step\n",
      "Epoch 9/10\n",
      "164/164 - 34s - loss: 0.0038 - accuracy: 0.9996 - val_loss: 0.2000 - val_accuracy: 0.9525 - 34s/epoch - 206ms/step\n",
      "Epoch 10/10\n",
      "164/164 - 35s - loss: 0.0020 - accuracy: 1.0000 - val_loss: 0.2063 - val_accuracy: 0.9540 - 35s/epoch - 211ms/step\n",
      "CPU times: total: 47min 44s\n",
      "Wall time: 5min 38s\n"
     ]
    }
   ],
   "source": [
    "%%time\n",
    "rezultats = model.fit(x_train, y_train, epochs=10, validation_data=(x_test, y_test), verbose=2)"
   ]
  },
  {
   "cell_type": "code",
   "execution_count": 14,
   "metadata": {},
   "outputs": [
    {
     "name": "stdout",
     "output_type": "stream",
     "text": [
      "41/41 [==============================] - 1s 32ms/step\n",
      "(1305,)\n",
      "(1305,)\n",
      "              precision    recall  f1-score   support\n",
      "\n",
      "           0      0.890     0.936     0.912       233\n",
      "           1      0.977     0.973     0.975       257\n",
      "           2      0.961     0.976     0.969       252\n",
      "           3      0.955     0.917     0.936       327\n",
      "           4      0.987     0.979     0.983       236\n",
      "\n",
      "    accuracy                          0.954      1305\n",
      "   macro avg      0.954     0.956     0.955      1305\n",
      "weighted avg      0.955     0.954     0.954      1305\n",
      "\n"
     ]
    },
    {
     "data": {
      "image/png": "[encoded data removed]",
      "text/plain": [
       "<Figure size 640x480 with 2 Axes>"
      ]
     },
     "metadata": {},
     "output_type": "display_data"
    }
   ],
   "source": [
    "from sklearn.metrics import accuracy_score, classification_report, confusion_matrix, ConfusionMatrixDisplay\n",
    "y_pred = model.predict(x_test)\n",
    "y_pred = np.argmax(y_pred, axis=1)\n",
    "print(y_test.shape)\n",
    "print(y_pred.shape)\n",
    "cm = confusion_matrix(y_test, y_pred)\n",
    "labels = ['bizness', 'criminal', 'izklaide', 'politika', 'sports']\n",
    "plot = ConfusionMatrixDisplay(confusion_matrix=cm,\n",
    "                              display_labels=labels)\n",
    "plot.plot()\n",
    "plot.ax_.set_title(\"KNT\")\n",
    "print(classification_report(y_test, y_pred, digits=3))\n",
    "clsf_report = pd.DataFrame(classification_report(y_true = y_test, y_pred = y_pred, output_dict=True)).transpose()\n",
    "clsf_report.to_csv('Report KNT.csv', index= True)\n"
   ]
  },
  {
   "cell_type": "code",
   "execution_count": 23,
   "metadata": {},
   "outputs": [
    {
     "data": {
      "image/png": "[encoded data removed]",
      "text/plain": [
       "<Figure size 1200x500 with 2 Axes>"
      ]
     },
     "metadata": {},
     "output_type": "display_data"
    }
   ],
   "source": [
    "import matplotlib.pyplot as plt\n",
    "\n",
    "plt.figure(figsize=(12, 5))\n",
    "ax = plt.subplot(121)\n",
    "plt.plot(rezultats.history['accuracy'])\n",
    "plt.plot(rezultats.history['val_accuracy'])\n",
    "plt.xlabel(\"Etaps\")\n",
    "plt.ylabel(\"Akurātums (Accuracy)\")\n",
    "plt.legend(['apmācības akurātums', 'testu akurātums'])\n",
    "plt.subplot(122)\n",
    "plt.plot(rezultats.history['loss'])\n",
    "plt.plot(rezultats.history['val_loss']);\n",
    "plt.xlabel(\"Etaps\")\n",
    "plt.ylabel(\"Zudums (Loss)\")\n",
    "plt.legend(['apmācības zudums', 'testu zudums']);"
   ]
  },
  {
   "cell_type": "code",
   "execution_count": 24,
   "metadata": {},
   "outputs": [],
   "source": [
    "def getLabel(index):\n",
    "    labels = ['bizness', 'criminal', 'izklaide', 'politika', 'sports']\n",
    "    return labels[index]"
   ]
  },
  {
   "cell_type": "code",
   "execution_count": 25,
   "metadata": {},
   "outputs": [],
   "source": [
    "def predict(text):\n",
    "    seq = tokenizer.texts_to_sequences([text])\n",
    "    padded = pad_sequences(seq, maxlen=max_len)\n",
    "    prediction = model.predict(padded)\n",
    "    predictionList = prediction.tolist()[0]\n",
    "    labeled_predictions = [{getLabel(i):\"%.2f%%\"%(x*100)} for i, x in enumerate(predictionList)]\n",
    "    return labeled_predictions"
   ]
  },
  {
   "cell_type": "code",
   "execution_count": 26,
   "metadata": {},
   "outputs": [
    {
     "name": "stdout",
     "output_type": "stream",
     "text": [
      "1/1 [==============================] - 0s 22ms/step\n"
     ]
    },
    {
     "data": {
      "text/plain": [
       "[{'bizness': '0.00%'},\n",
       " {'criminal': '0.00%'},\n",
       " {'izklaide': '0.00%'},\n",
       " {'politika': '100.00%'},\n",
       " {'sports': '0.00%'}]"
      ]
     },
     "execution_count": 26,
     "metadata": {},
     "output_type": "execute_result"
    }
   ],
   "source": [
    "predict(\"\"\"Pirmdien, 4. septembrī, premjera amatam nominētā Evika Siliņa (JV) sāks nākamās koalīcijas sarunas, dalot ministru amatus \"Jaunās Vienotības\", Zaļo un zemnieku savienības (ZZS) un partijas \"Progresīvie\" starpā.\n",
    "\n",
    "Piektdien, 1. septembrī, Siliņa preses konferencē informēja, ka, \"Apvienotajam sarakstam\" nepiekrītot darboties nākamajā koalīcijā, tajā darbosies trīs politiskie spēki, kuriem Saeimā kopumā ir 52 balsis.\n",
    "\n",
    "Siliņa gan neizslēdza iespēju, ka ar laiku koalīcijai varētu pievienoties vēl kāds partneris. \"Vienmēr pastāv iespēja iegūt vairāk balsis, ja labi strādā,\" teica Siliņa.\n",
    "\n",
    "Kā viens no potenciālajiem nākamās koalīcijas atbalstītājiem varētu būt pie frakcijām nepiederošais Oļegs Burovs, ar kuru Siliņa gan neesot runājusi, bet to darot cits nākamās koalīcijas partneris.\"\"\")"
   ]
  },
  {
   "cell_type": "code",
   "execution_count": 27,
   "metadata": {},
   "outputs": [
    {
     "name": "stdout",
     "output_type": "stream",
     "text": [
      "1/1 [==============================] - 0s 20ms/step\n"
     ]
    },
    {
     "data": {
      "text/plain": [
       "[{'bizness': '98.73%'},\n",
       " {'criminal': '1.17%'},\n",
       " {'izklaide': '0.07%'},\n",
       " {'politika': '0.01%'},\n",
       " {'sports': '0.01%'}]"
      ]
     },
     "execution_count": 27,
     "metadata": {},
     "output_type": "execute_result"
    }
   ],
   "source": [
    "predict(\"\"\"Starptautiskais pašapkalpošanās un automatizācijas risinājumu ražotājs \"Omnic\" Liepājā būvēs jaunu rūpnīcu, lai ražotu pakomātus Eiropas tirgum, liecina uzņēmuma sniegtā informācija.\n",
    "\n",
    "Šobrīd vēl tiek precizēta potenciāli vislabākā atrašanās vieta ražotnei, bet pirmie būvdarbi varētu tikt uzsākti jau šogad.\n",
    "\n",
    "Darbu jaunā rūpnīca varētu sākt 2024. gadā.\n",
    "\n",
    "Kā norāda uzņēmumā, šobrīd vēl esot grūti pateikt precīzas Liepājas rūpnīcas izmaksas, bet līdzīgā ražotnē Gruzijā \"Omnic\" investēja 8 miljonus eiro.\n",
    "\n",
    "Liepājas rūpnīcā plānots ražot paku skapīšus, pašapkalpošanās kases aparātus, ar saules paneļiem aprīkotus pakomātus, paku skapīšus-ledusskapjus, kā arī dažādus citus pašapkalpošanās un automatizācijas risinājumus.\"\"\")"
   ]
  },
  {
   "cell_type": "code",
   "execution_count": 28,
   "metadata": {},
   "outputs": [
    {
     "name": "stdout",
     "output_type": "stream",
     "text": [
      "1/1 [==============================] - 0s 21ms/step\n"
     ]
    },
    {
     "data": {
      "text/plain": [
       "[{'bizness': '0.01%'},\n",
       " {'criminal': '99.99%'},\n",
       " {'izklaide': '0.00%'},\n",
       " {'politika': '0.00%'},\n",
       " {'sports': '0.00%'}]"
      ]
     },
     "execution_count": 28,
     "metadata": {},
     "output_type": "execute_result"
    }
   ],
   "source": [
    "predict(\"\"\"Aizvadītajā diennaktī valstī reģistrēti 136 ceļu satiksmes negadījumi, tajos cietušas 13 personas, liecina Valsts policijas apkopotie dati.\n",
    "\n",
    "Četri no cietušajiem bijuši gājēji, tāpat cietis viens velosipēdists un viens elektrisko skrejriteņu vadītājs.\n",
    "\n",
    "Kopumā ceļu satiksmes jomā pieņemti 456 administratīvo pārkāpumu lēmumi, tajā skaitā 195 par ātruma pārsniegšanu un viens par agresīvu braukšanu.\"\"\")"
   ]
  },
  {
   "cell_type": "code",
   "execution_count": 29,
   "metadata": {},
   "outputs": [
    {
     "name": "stdout",
     "output_type": "stream",
     "text": [
      "1/1 [==============================] - 0s 20ms/step\n"
     ]
    },
    {
     "data": {
      "text/plain": [
       "[{'bizness': '0.05%'},\n",
       " {'criminal': '0.00%'},\n",
       " {'izklaide': '0.02%'},\n",
       " {'politika': '0.00%'},\n",
       " {'sports': '99.93%'}]"
      ]
     },
     "execution_count": 29,
     "metadata": {},
     "output_type": "execute_result"
    }
   ],
   "source": [
    "predict(\"\"\"Serbijas tenisists Novaks Džokovičs piektdien ASV atklātā čempionāta trešās kārtas spēlē pret savu tautieti Laslo Džeri zaudēja pirmajos divos setos, tomēr atspēlējās un svinēja uzvaru.\n",
    "\n",
    "Ranga vicelīderis Džokovičs ATP 38.numuru Džeri vairāk nekā trīsarpus stundu cīņā uzvarēja ar rezultātu 4-6, 4-6, 6-1, 6-1, 6-3.\n",
    "\n",
    "Kopš 2007.gada Džokovičs visos \"US Open\" turnīros, kuros piedalījies, ticis tālāk par trešo kārtu, 2011., 2015. un 2018.gadā kļūstot par čempionu.\n",
    "\n",
    "\"Esmu parādījis, ka varu aizvadīt arī piecu setu mačus. Atspēlēšanās pēc diviem zaudētiem setiem rāda skaidru signālu maniem nākamajiem pretiniekiem, taču nav tā, ka vēlējos nonākt šādā situācijā. Labprāt uzvarētu trīs setos,\" pēc uzvaras teica Džokovičs.\"\"\")"
   ]
  },
  {
   "cell_type": "code",
   "execution_count": 30,
   "metadata": {},
   "outputs": [
    {
     "name": "stdout",
     "output_type": "stream",
     "text": [
      "1/1 [==============================] - 0s 21ms/step\n"
     ]
    },
    {
     "data": {
      "text/plain": [
       "[{'bizness': '0.00%'},\n",
       " {'criminal': '0.00%'},\n",
       " {'izklaide': '100.00%'},\n",
       " {'politika': '0.00%'},\n",
       " {'sports': '0.00%'}]"
      ]
     },
     "execution_count": 30,
     "metadata": {},
     "output_type": "execute_result"
    }
   ],
   "source": [
    "predict(\"\"\"Populārā latviešu dziedātāja Samanta Tīna Poļakova \"Instagram\" vietnē pavēstījusi, ka teikusi jāvārdu savam draugam. Viņas pirkstā iemirdzējies gredzentiņš ar akmeni sirds formā.\n",
    "\n",
    "34 gadus vecā dziedātāja vēsta: \"Jā!\" un, apskāvusi savu mīļoto, ziņo, ka saderināšanās notikusi 30. augustā. Vairāki desmiti tūkstoši Samantas sekotāji priecīgo ziņu novērtējuši atzinīgi.\n",
    "\n",
    "Samanta Tīna līdz šim nav atklājusi, kā sauc viņas mīļoto vīrieti jau labu laiku māksliniece izvēlējusies savu privāto dzīvi neafišēt.\n",
    "\n",
    "Pirms trim gadiem dziedātāja šķīrās no sava ilgaddējā drauga Naura Liepiņa. Šajā pavasarī TV raidījumā \"Kad viņas satiekas\" Samanta atklāja, ka vairs nav brīvas meitenes statusā ar mīļoto iepazinusies 2022. gada rudenī pirms sev nozīmīgā ceļojuma uz Indiju. Puiša vārdu neatklājot, māksliniece vēstīja, ka abi iepazinušies attālināti un pēc ilgākas sarakstes pirmo reizi satikušies Samantas koncertā.\"\"\")"
   ]
  }
 ],
 "metadata": {
  "kernelspec": {
   "display_name": "Python 3",
   "language": "python",
   "name": "python3"
  },
  "language_info": {
   "codemirror_mode": {
    "name": "ipython",
    "version": 3
   },
   "file_extension": ".py",
   "mimetype": "text/x-python",
   "name": "python",
   "nbconvert_exporter": "python",
   "pygments_lexer": "ipython3",
   "version": "3.11.4"
  },
  "vscode": {
   "interpreter": {
    "hash": "75d1a310abc581491758488b622f6d4ebb8a14eb5e6f907822d34c523573fd08"
   }
  }
 },
 "nbformat": 4,
 "nbformat_minor": 4
}
